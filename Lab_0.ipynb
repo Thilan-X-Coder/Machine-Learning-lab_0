{
  "cells": [
    {
      "cell_type": "markdown",
      "source": [
        "# **CCS4340-Machine Learning**\n",
        "Lab 00\n",
        "\n",
        "21ug0780\n",
        "\n",
        "#Numpy_Exercises"
      ],
      "metadata": {
        "id": "IWHTtldXv07I"
      }
    },
    {
      "cell_type": "code",
      "execution_count": null,
      "metadata": {
        "colab": {
          "base_uri": "https://localhost:8080/"
        },
        "id": "H8D2abCxtssK",
        "outputId": "89cf41f8-c507-4353-c58b-7fec5f985ce8"
      },
      "outputs": [
        {
          "name": "stdout",
          "output_type": "stream",
          "text": [
            "1.22.4\n"
          ]
        }
      ],
      "source": [
        "#Q1\n",
        "\n",
        "import numpy as np\n",
        "\n",
        "print(np.__version__)\n"
      ]
    },
    {
      "cell_type": "code",
      "execution_count": null,
      "metadata": {
        "colab": {
          "base_uri": "https://localhost:8080/"
        },
        "id": "1gNLSOoBvURT",
        "outputId": "5d4e0714-3ac9-4271-c737-1bf871c161ca"
      },
      "outputs": [
        {
          "name": "stdout",
          "output_type": "stream",
          "text": [
            "[0 0 0 0 0]\n"
          ]
        }
      ],
      "source": [
        "#Q2\n",
        "\n",
        "zero_vector=np.zeros(5, dtype=int)\n",
        "print(zero_vector)"
      ]
    },
    {
      "cell_type": "code",
      "execution_count": null,
      "metadata": {
        "colab": {
          "base_uri": "https://localhost:8080/"
        },
        "id": "TfqF5jjuwH2T",
        "outputId": "1e9d872b-8f5a-41a8-c0ac-b66ea568fc12"
      },
      "outputs": [
        {
          "name": "stdout",
          "output_type": "stream",
          "text": [
            "[0 0 1 0 0]\n"
          ]
        }
      ],
      "source": [
        "#Q3\n",
        "\n",
        "zero_vector=np.zeros(5, dtype=int)\n",
        "zero_vector[2]= 1\n",
        "print(zero_vector)"
      ]
    },
    {
      "cell_type": "code",
      "execution_count": null,
      "metadata": {
        "colab": {
          "base_uri": "https://localhost:8080/"
        },
        "id": "sJyElzXCw0xs",
        "outputId": "a80cee64-d976-4ea5-a693-835d478bbfcc"
      },
      "outputs": [
        {
          "name": "stdout",
          "output_type": "stream",
          "text": [
            "[0 1 2 3 4 5 6 7 8 9]\n"
          ]
        }
      ],
      "source": [
        "#Q4\n",
        "\n",
        "vector = np.arange(10)\n",
        "print(vector)"
      ]
    },
    {
      "cell_type": "code",
      "execution_count": null,
      "metadata": {
        "colab": {
          "base_uri": "https://localhost:8080/"
        },
        "id": "AVUIuu8qxVdN",
        "outputId": "c86c9e58-19b8-4aeb-8f73-e80df6caf6f0"
      },
      "outputs": [
        {
          "name": "stdout",
          "output_type": "stream",
          "text": [
            "[10 11 12 13 14 15 16 17 18 19 20 21 22 23 24 25 26 27 28 29]\n"
          ]
        }
      ],
      "source": [
        "#Q5\n",
        "\n",
        "vector = np.arange(10,30)\n",
        "print(vector)"
      ]
    },
    {
      "cell_type": "code",
      "execution_count": null,
      "metadata": {
        "colab": {
          "base_uri": "https://localhost:8080/"
        },
        "id": "ZzDRFsrCxzts",
        "outputId": "8aaac9c8-6885-479a-c0e6-20e7132358ce"
      },
      "outputs": [
        {
          "name": "stdout",
          "output_type": "stream",
          "text": [
            "[9 8 7 6 5 4 3 2 1 0]\n"
          ]
        }
      ],
      "source": [
        "#Q6\n",
        "\n",
        "vector = np.arange(10)\n",
        "r_vector = vector[::-1]\n",
        "\n",
        "print(r_vector)"
      ]
    },
    {
      "cell_type": "code",
      "execution_count": null,
      "metadata": {
        "colab": {
          "base_uri": "https://localhost:8080/"
        },
        "id": "6a4ed2eFyY_A",
        "outputId": "1b9ae650-0170-4465-e005-c7204de0cb37"
      },
      "outputs": [
        {
          "name": "stdout",
          "output_type": "stream",
          "text": [
            "[[0. 0. 0. 0. 0.]\n",
            " [0. 0. 0. 0. 0.]\n",
            " [0. 0. 0. 0. 0.]]\n"
          ]
        }
      ],
      "source": [
        "#Q7\n",
        "\n",
        "zero_matrix = np.zeros((3,5))\n",
        "print(zero_matrix)"
      ]
    },
    {
      "cell_type": "code",
      "execution_count": null,
      "metadata": {
        "colab": {
          "base_uri": "https://localhost:8080/"
        },
        "id": "u1s2Q8eLzAlH",
        "outputId": "120751d1-0d32-4bc8-e002-c826f2d7ff71"
      },
      "outputs": [
        {
          "name": "stdout",
          "output_type": "stream",
          "text": [
            "[[0 3 6]\n",
            " [1 4 7]\n",
            " [2 5 8]]\n"
          ]
        }
      ],
      "source": [
        "#Q8\n",
        "\n",
        "array =np.array([[0,3,6],\n",
        "                [1,4,7],\n",
        "                [2,5,8]])\n",
        "\n",
        "print(array)"
      ]
    },
    {
      "cell_type": "code",
      "execution_count": null,
      "metadata": {
        "colab": {
          "base_uri": "https://localhost:8080/"
        },
        "id": "Rnl-EIHp0aJS",
        "outputId": "b1a87eaf-65fc-4b1c-f7d0-9193ddfd1718"
      },
      "outputs": [
        {
          "name": "stdout",
          "output_type": "stream",
          "text": [
            "[[1. 0. 0.]\n",
            " [0. 1. 0.]\n",
            " [0. 0. 1.]]\n"
          ]
        }
      ],
      "source": [
        "#Q9\n",
        "\n",
        "i_matrix = np.eye(3)\n",
        "print(i_matrix)"
      ]
    },
    {
      "cell_type": "code",
      "execution_count": null,
      "metadata": {
        "colab": {
          "base_uri": "https://localhost:8080/"
        },
        "id": "fP0uSQIt0-8g",
        "outputId": "7b2005d7-fdf8-44c4-ceec-64623a821fd0"
      },
      "outputs": [
        {
          "output_type": "stream",
          "name": "stdout",
          "text": [
            "[[[-0.78065981  1.52583169]\n",
            "  [ 0.60594862 -0.86395241]]\n",
            "\n",
            " [[ 1.72816977  0.61939268]\n",
            "  [ 0.02307901  0.44666982]]]\n"
          ]
        }
      ],
      "source": [
        "#Q10\n",
        "\n",
        "import numpy as np\n",
        "\n",
        "\n",
        "mean = 0.0\n",
        "std_dev = 1.0\n",
        "\n",
        "\n",
        "array = np.random.normal(mean, std_dev, (2, 2, 2))\n",
        "\n",
        "print(array)\n"
      ]
    },
    {
      "cell_type": "code",
      "source": [
        "#Q11A\n",
        "\n",
        "import numpy as np\n",
        "\n",
        "array = np.random.rand(4,5)\n",
        "\n",
        "print(\"Array: \", array)\n",
        "\n",
        "max_val= np.max(array)\n",
        "min_val= np.min(array)\n",
        "\n",
        "print(\"Maximum: \",max_val)\n",
        "print(\"Maximum: \",min_val)\n"
      ],
      "metadata": {
        "colab": {
          "base_uri": "https://localhost:8080/"
        },
        "id": "6TKzeVEbEup2",
        "outputId": "573e8baa-7994-4f09-bbc4-5b5681e5f9e9"
      },
      "execution_count": null,
      "outputs": [
        {
          "output_type": "stream",
          "name": "stdout",
          "text": [
            "Array:  [[0.59147451 0.66698645 0.14962381 0.02574223 0.20583956]\n",
            " [0.70568563 0.24526414 0.21283207 0.84576857 0.86089514]\n",
            " [0.63327194 0.10041679 0.45184944 0.69191724 0.27874577]\n",
            " [0.5295038  0.91543984 0.31750681 0.85338296 0.5708217 ]]\n",
            "Maximum:  0.9154398427690891\n",
            "Maximum:  0.02574223416374999\n"
          ]
        }
      ]
    },
    {
      "cell_type": "code",
      "source": [
        "#Q11B\n",
        "\n",
        "import numpy as np\n",
        "\n",
        "array = np.random.rand(4,5)\n",
        "\n",
        "print(\"Array: \", array)\n",
        "\n",
        "max_val= np.max(array)\n",
        "min_val= np.min(array)\n",
        "\n",
        "print(\"Maximum: \",max_val)\n",
        "print(\"Maximum: \",min_val)\n",
        "\n",
        "max_indices = np.unravel_index(np.argmax(array),array.shape)\n",
        "min_indices = np.unravel_index(np.argmin(array),array.shape)\n",
        "\n",
        "print(\"indices of maximum value\" , max_indices)\n",
        "print(\"indices of minimum value\" , min_indices)\n",
        "\n"
      ],
      "metadata": {
        "colab": {
          "base_uri": "https://localhost:8080/"
        },
        "id": "U_ky4ML-GAji",
        "outputId": "c0b370d7-0fbf-410d-ccf9-fbccd1ecd220"
      },
      "execution_count": null,
      "outputs": [
        {
          "output_type": "stream",
          "name": "stdout",
          "text": [
            "Array:  [[0.11869397 0.73017105 0.59010894 0.59103295 0.23667633]\n",
            " [0.38208212 0.45644854 0.47186214 0.89283143 0.84299081]\n",
            " [0.96805213 0.77755244 0.66046802 0.93460331 0.22650324]\n",
            " [0.5716849  0.49001784 0.20631432 0.11841536 0.27932068]]\n",
            "Maximum:  0.9680521261241098\n",
            "Maximum:  0.11841536286914933\n",
            "indices of maximum value (2, 0)\n",
            "indices of minimum value (3, 3)\n"
          ]
        }
      ]
    },
    {
      "cell_type": "code",
      "source": [
        "#Q12\n",
        "\n",
        "import numpy as np\n",
        "\n",
        "array = np.random.rand(4,5)\n",
        "\n",
        "print(\"Array: \", array)\n",
        "\n",
        "max_val= np.max(array)\n",
        "min_val= np.min(array)\n",
        "\n",
        "print(\"Maximum: \",max_val)\n",
        "print(\"Maximum: \",min_val)\n",
        "\n",
        "max_indices = np.unravel_index(np.argmax(array),array.shape)\n",
        "min_indices = np.unravel_index(np.argmin(array),array.shape)\n",
        "\n",
        "print(\"indices of maximum value\" , max_indices)\n",
        "print(\"indices of minimum value\" , min_indices)\n",
        "\n",
        "mean_val=np.mean(array)\n",
        "\n",
        "print('mean value: ', mean_val)"
      ],
      "metadata": {
        "colab": {
          "base_uri": "https://localhost:8080/"
        },
        "id": "da22qLc9TNjZ",
        "outputId": "84071fa9-18dd-4971-ce2b-b2d99b2b86d2"
      },
      "execution_count": null,
      "outputs": [
        {
          "output_type": "stream",
          "name": "stdout",
          "text": [
            "Array:  [[0.74613274 0.24305753 0.72398574 0.26967242 0.6871661 ]\n",
            " [0.846466   0.67132164 0.56659101 0.50898151 0.46757699]\n",
            " [0.50965563 0.59684791 0.41510912 0.92508815 0.42041338]\n",
            " [0.62359446 0.95454729 0.45899564 0.77182473 0.83003121]]\n",
            "Maximum:  0.9545472919412817\n",
            "Maximum:  0.24305753170927502\n",
            "indices of maximum value (3, 1)\n",
            "indices of minimum value (0, 1)\n",
            "mean value:  0.6118529598883714\n"
          ]
        }
      ]
    },
    {
      "cell_type": "code",
      "source": [
        "#Q13\n",
        "\n",
        "import numpy as np\n",
        "\n",
        "array = np.random.rand(4,5)\n",
        "\n",
        "print(\"Array: \", array)\n",
        "\n",
        "max_val= np.max(array)\n",
        "min_val= np.min(array)\n",
        "\n",
        "print(\"Maximum: \",max_val)\n",
        "print(\"Maximum: \",min_val)\n",
        "\n",
        "max_indices = np.unravel_index(np.argmax(array),array.shape)\n",
        "min_indices = np.unravel_index(np.argmin(array),array.shape)\n",
        "\n",
        "print(\"indices of maximum value\" , max_indices)\n",
        "print(\"indices of minimum value\" , min_indices)\n",
        "\n",
        "mean_val=np.mean(array)\n",
        "\n",
        "print('mean value: ', mean_val)\n",
        "\n",
        "row_mean = np.mean(array, axis = 1)\n",
        "\n",
        "print(\"row mean value\" , row_mean)"
      ],
      "metadata": {
        "colab": {
          "base_uri": "https://localhost:8080/"
        },
        "id": "Onol46_ndYf6",
        "outputId": "c46eb57b-94d6-483d-b932-089a3ff8e917"
      },
      "execution_count": null,
      "outputs": [
        {
          "output_type": "stream",
          "name": "stdout",
          "text": [
            "Array:  [[0.95134911 0.59304138 0.81455102 0.66261277 0.78664556]\n",
            " [0.37306597 0.70664691 0.96161408 0.71865364 0.16302953]\n",
            " [0.26311782 0.94068389 0.6308247  0.49623524 0.54171256]\n",
            " [0.62576484 0.08948563 0.46163331 0.01689513 0.92874232]]\n",
            "Maximum:  0.9616140771567554\n",
            "Maximum:  0.016895128917341684\n",
            "indices of maximum value (1, 2)\n",
            "indices of minimum value (3, 3)\n",
            "mean value:  0.5863152707486877\n",
            "row mean value [0.76163997 0.58460202 0.57451484 0.42450425]\n"
          ]
        }
      ]
    },
    {
      "cell_type": "code",
      "source": [
        "#Q14\n",
        "import numpy as np\n",
        "\n",
        "array = np.random.rand(4,5)\n",
        "\n",
        "print(\"Array: \", array)\n",
        "\n",
        "max_val= np.max(array)\n",
        "min_val= np.min(array)\n",
        "\n",
        "print(\"Maximum: \",max_val)\n",
        "print(\"Maximum: \",min_val)\n",
        "\n",
        "max_indices = np.unravel_index(np.argmax(array),array.shape)\n",
        "min_indices = np.unravel_index(np.argmin(array),array.shape)\n",
        "\n",
        "print(\"indices of maximum value\" , max_indices)\n",
        "print(\"indices of minimum value\" , min_indices)\n",
        "\n",
        "mean_val=np.mean(array)\n",
        "\n",
        "print('mean value: ', mean_val)\n",
        "\n",
        "column_mean = np.mean(array, axis = 0)\n",
        "\n",
        "print(\"column mean value\" , column_mean)"
      ],
      "metadata": {
        "colab": {
          "base_uri": "https://localhost:8080/"
        },
        "id": "u24gh5yFViX0",
        "outputId": "cda38de6-b683-4782-85ff-2d2c4f1e5a7f"
      },
      "execution_count": null,
      "outputs": [
        {
          "output_type": "stream",
          "name": "stdout",
          "text": [
            "Array:  [[0.09528935 0.81460601 0.99344709 0.40135968 0.94395761]\n",
            " [0.85222313 0.8112115  0.63296401 0.14039341 0.35892673]\n",
            " [0.76626461 0.98648552 0.47029014 0.80103984 0.38669203]\n",
            " [0.49088164 0.87643217 0.07485153 0.96986545 0.80221549]]\n",
            "Maximum:  0.9934470933673316\n",
            "Maximum:  0.07485152850177512\n",
            "indices of maximum value (0, 2)\n",
            "indices of minimum value (3, 2)\n",
            "mean value:  0.6334698464902876\n",
            "column mean value [0.55116468 0.8721838  0.54288819 0.57816459 0.62294796]\n"
          ]
        }
      ]
    },
    {
      "cell_type": "code",
      "source": [
        "#Q15\n",
        "\n",
        "my_list = [2.2,3.5,0,4,0]\n",
        "\n",
        "array = np.array(my_list)\n",
        "\n",
        "print(array)"
      ],
      "metadata": {
        "colab": {
          "base_uri": "https://localhost:8080/"
        },
        "id": "fQw26I9gb7Em",
        "outputId": "2edee65f-da9f-47e5-b72e-5b5ccd242263"
      },
      "execution_count": null,
      "outputs": [
        {
          "output_type": "stream",
          "name": "stdout",
          "text": [
            "[2.2 3.5 0.  4.  0. ]\n"
          ]
        }
      ]
    },
    {
      "cell_type": "code",
      "source": [
        "#Q16\n",
        "\n",
        "import numpy as np\n",
        "\n",
        "mean = 0.0\n",
        "std_dev = 1.0\n",
        "\n",
        "shap1=(5,4)\n",
        "shap2=(4,2)\n",
        "\n",
        "\n",
        "matrix1 = np.random.normal(mean,std_dev,shap1)\n",
        "matrix2 = np.random.normal(mean,std_dev,shap2)\n",
        "\n",
        "print(matrix1)\n",
        "print(matrix2)\n",
        "\n",
        "result = np.dot(matrix1,matrix2)\n",
        "\n",
        "print(\"product of two matrix: \", result)"
      ],
      "metadata": {
        "colab": {
          "base_uri": "https://localhost:8080/"
        },
        "id": "UzQB3SLkcYZB",
        "outputId": "7bb7d7f2-e55c-4bad-c4b7-11293121633d"
      },
      "execution_count": null,
      "outputs": [
        {
          "output_type": "stream",
          "name": "stdout",
          "text": [
            "[[-0.23907684 -0.11090205  0.19737079 -2.00672161]\n",
            " [ 1.07805232 -0.68264811  0.81023917  0.9128736 ]\n",
            " [-0.65325674  1.66362882  0.24697634  0.82741707]\n",
            " [ 0.00396939 -1.77417903 -0.31358001  1.35371278]\n",
            " [-0.27152577 -0.529833   -0.9150147  -0.71906336]]\n",
            "[[ 0.20319997 -0.94056274]\n",
            " [-0.46254173 -0.71552962]\n",
            " [-0.71384789 -0.09949342]\n",
            " [-1.01870363  1.23770157]]\n",
            "product of two matrix:  [[ 1.90607828 -2.19913912]\n",
            " [-0.97352173  0.52373072]\n",
            " [-1.92143582  0.42357615]\n",
            " [-0.33374527  2.97243576]\n",
            " [ 1.5755896  -0.16444969]]\n"
          ]
        }
      ]
    },
    {
      "cell_type": "code",
      "source": [
        "#Q17\n",
        "import numpy as np\n",
        "\n",
        "matrix=np.random.rand(5,3)\n",
        "print(matrix)\n",
        "\n",
        "vector=np.random.rand(3)\n",
        "print(vector)\n",
        "\n",
        "result = matrix + vector\n",
        "\n",
        "print(result)"
      ],
      "metadata": {
        "colab": {
          "base_uri": "https://localhost:8080/"
        },
        "id": "hFYD6ebSjke4",
        "outputId": "f6f7d8ac-0f8c-4118-cdc1-80d906169c71"
      },
      "execution_count": null,
      "outputs": [
        {
          "output_type": "stream",
          "name": "stdout",
          "text": [
            "[[0.49019808 0.11077266 0.12483547]\n",
            " [0.37069957 0.90362082 0.88276482]\n",
            " [0.34274611 0.18640019 0.51605385]\n",
            " [0.14443332 0.84480254 0.97550506]\n",
            " [0.97078778 0.98386095 0.32650559]]\n",
            "[0.13960708 0.59514722 0.5468695 ]\n",
            "[[0.62980515 0.70591988 0.67170497]\n",
            " [0.51030665 1.49876804 1.42963432]\n",
            " [0.48235319 0.78154742 1.06292335]\n",
            " [0.28404039 1.43994976 1.52237457]\n",
            " [1.11039485 1.57900817 0.8733751 ]]\n"
          ]
        }
      ]
    },
    {
      "cell_type": "code",
      "source": [
        "##################################################################################################################################################################################"
      ],
      "metadata": {
        "id": "W0JtXewfmjxD"
      },
      "execution_count": null,
      "outputs": []
    },
    {
      "cell_type": "code",
      "source": [
        "################################################--PANDAS-EXERCISES--#####################################################\n",
        "\n",
        "#Q18\n",
        "\n",
        "import pandas as pd\n",
        "import numpy as np\n",
        "\n",
        "df = pd.read_csv('/content/drive/MyDrive/Colab Notebooks/credit.csv')\n",
        "df\n",
        "\n",
        "print(\"CSV File Information:\")\n",
        "print(\"Number of rows:\", len(df))\n",
        "print(\"Number of columns:\", len(df.columns))\n",
        "print(\"Column names:\", df.columns.tolist())\n",
        "print(\"Data types:\\n\", df.dtypes)\n",
        "\n"
      ],
      "metadata": {
        "colab": {
          "base_uri": "https://localhost:8080/"
        },
        "id": "eiAJxIp9mnrk",
        "outputId": "0fae4fbf-cd9f-496d-d3b7-2a436ec1be49"
      },
      "execution_count": null,
      "outputs": [
        {
          "output_type": "stream",
          "name": "stdout",
          "text": [
            "CSV File Information:\n",
            "Number of rows: 1001\n",
            "Number of columns: 21\n",
            "Column names: ['CheckingAccount', 'Duration', 'CreditHistory', 'Purpose', 'CreditAmount', 'SavingsAccount', 'YearsEmployed', 'InstallmentRate', 'PersonalStatus', 'OtherDebtors', 'ResidentSince', 'Property', 'Age', 'OtherPlans', 'Housing', 'NumCreditsAtBank', 'Job', 'Dependents', 'Telephone', 'Foreign', 'Approve']\n",
            "Data types:\n",
            " CheckingAccount      object\n",
            "Duration            float64\n",
            "CreditHistory        object\n",
            "Purpose              object\n",
            "CreditAmount        float64\n",
            "SavingsAccount       object\n",
            "YearsEmployed        object\n",
            "InstallmentRate     float64\n",
            "PersonalStatus       object\n",
            "OtherDebtors         object\n",
            "ResidentSince       float64\n",
            "Property             object\n",
            "Age                 float64\n",
            "OtherPlans           object\n",
            "Housing              object\n",
            "NumCreditsAtBank    float64\n",
            "Job                  object\n",
            "Dependents          float64\n",
            "Telephone            object\n",
            "Foreign              object\n",
            "Approve              object\n",
            "dtype: object\n"
          ]
        }
      ]
    },
    {
      "cell_type": "code",
      "source": [
        "#Q19\n",
        "summery_state = df.describe()\n",
        "\n",
        "print(summery_state)"
      ],
      "metadata": {
        "colab": {
          "base_uri": "https://localhost:8080/"
        },
        "id": "oYqwp2Dztayy",
        "outputId": "dbaca6cf-92fd-4637-ba60-382fb48c8f54"
      },
      "execution_count": null,
      "outputs": [
        {
          "output_type": "stream",
          "name": "stdout",
          "text": [
            "          Duration  CreditAmount  InstallmentRate  ResidentSince          Age  \\\n",
            "count  1001.000000  1.001000e+03      1001.000000    1001.000000  1001.000000   \n",
            "mean     20.882118 -9.957330e+05        -7.019980       2.842158    35.217782   \n",
            "std      12.070878  3.160708e+07       316.165715       1.106825    15.398264   \n",
            "min       0.000000 -1.000000e+09    -10000.000000       0.000000  -293.000000   \n",
            "25%      12.000000  1.364000e+03         2.000000       2.000000    27.000000   \n",
            "50%      18.000000  2.319000e+03         3.000000       3.000000    33.000000   \n",
            "75%      24.000000  3.972000e+03         4.000000       4.000000    42.000000   \n",
            "max      72.000000  1.842400e+04         4.000000       4.000000    75.000000   \n",
            "\n",
            "       NumCreditsAtBank   Dependents  \n",
            "count       1001.000000  1001.000000  \n",
            "mean           0.406593     0.969031  \n",
            "std           31.656714     5.894916  \n",
            "min        -1000.000000  -185.000000  \n",
            "25%            1.000000     1.000000  \n",
            "50%            1.000000     1.000000  \n",
            "75%            2.000000     1.000000  \n",
            "max            4.000000     2.000000  \n"
          ]
        }
      ]
    },
    {
      "cell_type": "code",
      "source": [
        "df"
      ],
      "metadata": {
        "colab": {
          "base_uri": "https://localhost:8080/",
          "height": 487
        },
        "id": "tYx1qIHLt7Xa",
        "outputId": "8c067d29-742c-407a-83c1-1d13300f9df5"
      },
      "execution_count": null,
      "outputs": [
        {
          "output_type": "execute_result",
          "data": {
            "text/plain": [
              "     CheckingAccount  Duration CreditHistory     Purpose  CreditAmount  \\\n",
              "0                 <0       0.0            ok   furniture -1.000000e+09   \n",
              "1                 <0       6.0      critical  television  1.169000e+03   \n",
              "2               <200      48.0    ok_til_now  television  5.951000e+03   \n",
              "3               none      12.0      critical   education  2.096000e+03   \n",
              "4                 <0      42.0    ok_til_now   furniture  7.882000e+03   \n",
              "...              ...       ...           ...         ...           ...   \n",
              "996             none      12.0    ok_til_now   furniture  1.736000e+03   \n",
              "997               <0      30.0    ok_til_now    car_used  3.857000e+03   \n",
              "998             none      12.0    ok_til_now  television  8.040000e+02   \n",
              "999               <0      45.0    ok_til_now  television  1.845000e+03   \n",
              "1000            <200      45.0      critical    car_used  4.576000e+03   \n",
              "\n",
              "     SavingsAccount YearsEmployed  InstallmentRate PersonalStatus  \\\n",
              "0           unknown    unemployed         -10000.0  female_single   \n",
              "1           unknown           >=7              4.0    male_single   \n",
              "2              <100            <4              2.0         female   \n",
              "3              <100            <7              2.0    male_single   \n",
              "4              <100            <7              2.0    male_single   \n",
              "...             ...           ...              ...            ...   \n",
              "996            <100            <7              3.0         female   \n",
              "997            <100            <4              4.0  male_divorced   \n",
              "998            <100           >=7              4.0    male_single   \n",
              "999            <100            <4              4.0    male_single   \n",
              "1000           <500    unemployed              3.0    male_single   \n",
              "\n",
              "     OtherDebtors  ...     Property    Age  OtherPlans Housing  \\\n",
              "0            none  ...          car -293.0        none     own   \n",
              "1            none  ...  real_estate   67.0        none     own   \n",
              "2            none  ...  real_estate   22.0        none     own   \n",
              "3            none  ...  real_estate   49.0        none     own   \n",
              "4       guarantor  ...      savings   45.0        none    free   \n",
              "...           ...  ...          ...    ...         ...     ...   \n",
              "996          none  ...  real_estate   31.0        none     own   \n",
              "997          none  ...      savings   40.0        none     own   \n",
              "998          none  ...          car   38.0        none     own   \n",
              "999          none  ...      unknown   23.0        none    free   \n",
              "1000         none  ...          car   27.0        none     own   \n",
              "\n",
              "     NumCreditsAtBank         Job Dependents  Telephone Foreign Approve  \n",
              "0             -1000.0     skilled     -185.0        yes      no    good  \n",
              "1                 2.0     skilled        1.0        yes     yes    good  \n",
              "2                 1.0     skilled        1.0         no     yes     bad  \n",
              "3                 1.0   unskilled        2.0         no     yes    good  \n",
              "4                 1.0     skilled        2.0         no     yes    good  \n",
              "...               ...         ...        ...        ...     ...     ...  \n",
              "996               1.0   unskilled        1.0         no     yes    good  \n",
              "997               1.0  management        1.0        yes     yes    good  \n",
              "998               1.0     skilled        1.0         no     yes    good  \n",
              "999               1.0     skilled        1.0        yes     yes     bad  \n",
              "1000              1.0     skilled        1.0         no     yes    good  \n",
              "\n",
              "[1001 rows x 21 columns]"
            ],
            "text/html": [
              "\n",
              "  <div id=\"df-b564d03e-1925-4097-a1e0-8160f5c26d7e\">\n",
              "    <div class=\"colab-df-container\">\n",
              "      <div>\n",
              "<style scoped>\n",
              "    .dataframe tbody tr th:only-of-type {\n",
              "        vertical-align: middle;\n",
              "    }\n",
              "\n",
              "    .dataframe tbody tr th {\n",
              "        vertical-align: top;\n",
              "    }\n",
              "\n",
              "    .dataframe thead th {\n",
              "        text-align: right;\n",
              "    }\n",
              "</style>\n",
              "<table border=\"1\" class=\"dataframe\">\n",
              "  <thead>\n",
              "    <tr style=\"text-align: right;\">\n",
              "      <th></th>\n",
              "      <th>CheckingAccount</th>\n",
              "      <th>Duration</th>\n",
              "      <th>CreditHistory</th>\n",
              "      <th>Purpose</th>\n",
              "      <th>CreditAmount</th>\n",
              "      <th>SavingsAccount</th>\n",
              "      <th>YearsEmployed</th>\n",
              "      <th>InstallmentRate</th>\n",
              "      <th>PersonalStatus</th>\n",
              "      <th>OtherDebtors</th>\n",
              "      <th>...</th>\n",
              "      <th>Property</th>\n",
              "      <th>Age</th>\n",
              "      <th>OtherPlans</th>\n",
              "      <th>Housing</th>\n",
              "      <th>NumCreditsAtBank</th>\n",
              "      <th>Job</th>\n",
              "      <th>Dependents</th>\n",
              "      <th>Telephone</th>\n",
              "      <th>Foreign</th>\n",
              "      <th>Approve</th>\n",
              "    </tr>\n",
              "  </thead>\n",
              "  <tbody>\n",
              "    <tr>\n",
              "      <th>0</th>\n",
              "      <td>&lt;0</td>\n",
              "      <td>0.0</td>\n",
              "      <td>ok</td>\n",
              "      <td>furniture</td>\n",
              "      <td>-1.000000e+09</td>\n",
              "      <td>unknown</td>\n",
              "      <td>unemployed</td>\n",
              "      <td>-10000.0</td>\n",
              "      <td>female_single</td>\n",
              "      <td>none</td>\n",
              "      <td>...</td>\n",
              "      <td>car</td>\n",
              "      <td>-293.0</td>\n",
              "      <td>none</td>\n",
              "      <td>own</td>\n",
              "      <td>-1000.0</td>\n",
              "      <td>skilled</td>\n",
              "      <td>-185.0</td>\n",
              "      <td>yes</td>\n",
              "      <td>no</td>\n",
              "      <td>good</td>\n",
              "    </tr>\n",
              "    <tr>\n",
              "      <th>1</th>\n",
              "      <td>&lt;0</td>\n",
              "      <td>6.0</td>\n",
              "      <td>critical</td>\n",
              "      <td>television</td>\n",
              "      <td>1.169000e+03</td>\n",
              "      <td>unknown</td>\n",
              "      <td>&gt;=7</td>\n",
              "      <td>4.0</td>\n",
              "      <td>male_single</td>\n",
              "      <td>none</td>\n",
              "      <td>...</td>\n",
              "      <td>real_estate</td>\n",
              "      <td>67.0</td>\n",
              "      <td>none</td>\n",
              "      <td>own</td>\n",
              "      <td>2.0</td>\n",
              "      <td>skilled</td>\n",
              "      <td>1.0</td>\n",
              "      <td>yes</td>\n",
              "      <td>yes</td>\n",
              "      <td>good</td>\n",
              "    </tr>\n",
              "    <tr>\n",
              "      <th>2</th>\n",
              "      <td>&lt;200</td>\n",
              "      <td>48.0</td>\n",
              "      <td>ok_til_now</td>\n",
              "      <td>television</td>\n",
              "      <td>5.951000e+03</td>\n",
              "      <td>&lt;100</td>\n",
              "      <td>&lt;4</td>\n",
              "      <td>2.0</td>\n",
              "      <td>female</td>\n",
              "      <td>none</td>\n",
              "      <td>...</td>\n",
              "      <td>real_estate</td>\n",
              "      <td>22.0</td>\n",
              "      <td>none</td>\n",
              "      <td>own</td>\n",
              "      <td>1.0</td>\n",
              "      <td>skilled</td>\n",
              "      <td>1.0</td>\n",
              "      <td>no</td>\n",
              "      <td>yes</td>\n",
              "      <td>bad</td>\n",
              "    </tr>\n",
              "    <tr>\n",
              "      <th>3</th>\n",
              "      <td>none</td>\n",
              "      <td>12.0</td>\n",
              "      <td>critical</td>\n",
              "      <td>education</td>\n",
              "      <td>2.096000e+03</td>\n",
              "      <td>&lt;100</td>\n",
              "      <td>&lt;7</td>\n",
              "      <td>2.0</td>\n",
              "      <td>male_single</td>\n",
              "      <td>none</td>\n",
              "      <td>...</td>\n",
              "      <td>real_estate</td>\n",
              "      <td>49.0</td>\n",
              "      <td>none</td>\n",
              "      <td>own</td>\n",
              "      <td>1.0</td>\n",
              "      <td>unskilled</td>\n",
              "      <td>2.0</td>\n",
              "      <td>no</td>\n",
              "      <td>yes</td>\n",
              "      <td>good</td>\n",
              "    </tr>\n",
              "    <tr>\n",
              "      <th>4</th>\n",
              "      <td>&lt;0</td>\n",
              "      <td>42.0</td>\n",
              "      <td>ok_til_now</td>\n",
              "      <td>furniture</td>\n",
              "      <td>7.882000e+03</td>\n",
              "      <td>&lt;100</td>\n",
              "      <td>&lt;7</td>\n",
              "      <td>2.0</td>\n",
              "      <td>male_single</td>\n",
              "      <td>guarantor</td>\n",
              "      <td>...</td>\n",
              "      <td>savings</td>\n",
              "      <td>45.0</td>\n",
              "      <td>none</td>\n",
              "      <td>free</td>\n",
              "      <td>1.0</td>\n",
              "      <td>skilled</td>\n",
              "      <td>2.0</td>\n",
              "      <td>no</td>\n",
              "      <td>yes</td>\n",
              "      <td>good</td>\n",
              "    </tr>\n",
              "    <tr>\n",
              "      <th>...</th>\n",
              "      <td>...</td>\n",
              "      <td>...</td>\n",
              "      <td>...</td>\n",
              "      <td>...</td>\n",
              "      <td>...</td>\n",
              "      <td>...</td>\n",
              "      <td>...</td>\n",
              "      <td>...</td>\n",
              "      <td>...</td>\n",
              "      <td>...</td>\n",
              "      <td>...</td>\n",
              "      <td>...</td>\n",
              "      <td>...</td>\n",
              "      <td>...</td>\n",
              "      <td>...</td>\n",
              "      <td>...</td>\n",
              "      <td>...</td>\n",
              "      <td>...</td>\n",
              "      <td>...</td>\n",
              "      <td>...</td>\n",
              "      <td>...</td>\n",
              "    </tr>\n",
              "    <tr>\n",
              "      <th>996</th>\n",
              "      <td>none</td>\n",
              "      <td>12.0</td>\n",
              "      <td>ok_til_now</td>\n",
              "      <td>furniture</td>\n",
              "      <td>1.736000e+03</td>\n",
              "      <td>&lt;100</td>\n",
              "      <td>&lt;7</td>\n",
              "      <td>3.0</td>\n",
              "      <td>female</td>\n",
              "      <td>none</td>\n",
              "      <td>...</td>\n",
              "      <td>real_estate</td>\n",
              "      <td>31.0</td>\n",
              "      <td>none</td>\n",
              "      <td>own</td>\n",
              "      <td>1.0</td>\n",
              "      <td>unskilled</td>\n",
              "      <td>1.0</td>\n",
              "      <td>no</td>\n",
              "      <td>yes</td>\n",
              "      <td>good</td>\n",
              "    </tr>\n",
              "    <tr>\n",
              "      <th>997</th>\n",
              "      <td>&lt;0</td>\n",
              "      <td>30.0</td>\n",
              "      <td>ok_til_now</td>\n",
              "      <td>car_used</td>\n",
              "      <td>3.857000e+03</td>\n",
              "      <td>&lt;100</td>\n",
              "      <td>&lt;4</td>\n",
              "      <td>4.0</td>\n",
              "      <td>male_divorced</td>\n",
              "      <td>none</td>\n",
              "      <td>...</td>\n",
              "      <td>savings</td>\n",
              "      <td>40.0</td>\n",
              "      <td>none</td>\n",
              "      <td>own</td>\n",
              "      <td>1.0</td>\n",
              "      <td>management</td>\n",
              "      <td>1.0</td>\n",
              "      <td>yes</td>\n",
              "      <td>yes</td>\n",
              "      <td>good</td>\n",
              "    </tr>\n",
              "    <tr>\n",
              "      <th>998</th>\n",
              "      <td>none</td>\n",
              "      <td>12.0</td>\n",
              "      <td>ok_til_now</td>\n",
              "      <td>television</td>\n",
              "      <td>8.040000e+02</td>\n",
              "      <td>&lt;100</td>\n",
              "      <td>&gt;=7</td>\n",
              "      <td>4.0</td>\n",
              "      <td>male_single</td>\n",
              "      <td>none</td>\n",
              "      <td>...</td>\n",
              "      <td>car</td>\n",
              "      <td>38.0</td>\n",
              "      <td>none</td>\n",
              "      <td>own</td>\n",
              "      <td>1.0</td>\n",
              "      <td>skilled</td>\n",
              "      <td>1.0</td>\n",
              "      <td>no</td>\n",
              "      <td>yes</td>\n",
              "      <td>good</td>\n",
              "    </tr>\n",
              "    <tr>\n",
              "      <th>999</th>\n",
              "      <td>&lt;0</td>\n",
              "      <td>45.0</td>\n",
              "      <td>ok_til_now</td>\n",
              "      <td>television</td>\n",
              "      <td>1.845000e+03</td>\n",
              "      <td>&lt;100</td>\n",
              "      <td>&lt;4</td>\n",
              "      <td>4.0</td>\n",
              "      <td>male_single</td>\n",
              "      <td>none</td>\n",
              "      <td>...</td>\n",
              "      <td>unknown</td>\n",
              "      <td>23.0</td>\n",
              "      <td>none</td>\n",
              "      <td>free</td>\n",
              "      <td>1.0</td>\n",
              "      <td>skilled</td>\n",
              "      <td>1.0</td>\n",
              "      <td>yes</td>\n",
              "      <td>yes</td>\n",
              "      <td>bad</td>\n",
              "    </tr>\n",
              "    <tr>\n",
              "      <th>1000</th>\n",
              "      <td>&lt;200</td>\n",
              "      <td>45.0</td>\n",
              "      <td>critical</td>\n",
              "      <td>car_used</td>\n",
              "      <td>4.576000e+03</td>\n",
              "      <td>&lt;500</td>\n",
              "      <td>unemployed</td>\n",
              "      <td>3.0</td>\n",
              "      <td>male_single</td>\n",
              "      <td>none</td>\n",
              "      <td>...</td>\n",
              "      <td>car</td>\n",
              "      <td>27.0</td>\n",
              "      <td>none</td>\n",
              "      <td>own</td>\n",
              "      <td>1.0</td>\n",
              "      <td>skilled</td>\n",
              "      <td>1.0</td>\n",
              "      <td>no</td>\n",
              "      <td>yes</td>\n",
              "      <td>good</td>\n",
              "    </tr>\n",
              "  </tbody>\n",
              "</table>\n",
              "<p>1001 rows × 21 columns</p>\n",
              "</div>\n",
              "      <button class=\"colab-df-convert\" onclick=\"convertToInteractive('df-b564d03e-1925-4097-a1e0-8160f5c26d7e')\"\n",
              "              title=\"Convert this dataframe to an interactive table.\"\n",
              "              style=\"display:none;\">\n",
              "        \n",
              "  <svg xmlns=\"http://www.w3.org/2000/svg\" height=\"24px\"viewBox=\"0 0 24 24\"\n",
              "       width=\"24px\">\n",
              "    <path d=\"M0 0h24v24H0V0z\" fill=\"none\"/>\n",
              "    <path d=\"M18.56 5.44l.94 2.06.94-2.06 2.06-.94-2.06-.94-.94-2.06-.94 2.06-2.06.94zm-11 1L8.5 8.5l.94-2.06 2.06-.94-2.06-.94L8.5 2.5l-.94 2.06-2.06.94zm10 10l.94 2.06.94-2.06 2.06-.94-2.06-.94-.94-2.06-.94 2.06-2.06.94z\"/><path d=\"M17.41 7.96l-1.37-1.37c-.4-.4-.92-.59-1.43-.59-.52 0-1.04.2-1.43.59L10.3 9.45l-7.72 7.72c-.78.78-.78 2.05 0 2.83L4 21.41c.39.39.9.59 1.41.59.51 0 1.02-.2 1.41-.59l7.78-7.78 2.81-2.81c.8-.78.8-2.07 0-2.86zM5.41 20L4 18.59l7.72-7.72 1.47 1.35L5.41 20z\"/>\n",
              "  </svg>\n",
              "      </button>\n",
              "      \n",
              "  <style>\n",
              "    .colab-df-container {\n",
              "      display:flex;\n",
              "      flex-wrap:wrap;\n",
              "      gap: 12px;\n",
              "    }\n",
              "\n",
              "    .colab-df-convert {\n",
              "      background-color: #E8F0FE;\n",
              "      border: none;\n",
              "      border-radius: 50%;\n",
              "      cursor: pointer;\n",
              "      display: none;\n",
              "      fill: #1967D2;\n",
              "      height: 32px;\n",
              "      padding: 0 0 0 0;\n",
              "      width: 32px;\n",
              "    }\n",
              "\n",
              "    .colab-df-convert:hover {\n",
              "      background-color: #E2EBFA;\n",
              "      box-shadow: 0px 1px 2px rgba(60, 64, 67, 0.3), 0px 1px 3px 1px rgba(60, 64, 67, 0.15);\n",
              "      fill: #174EA6;\n",
              "    }\n",
              "\n",
              "    [theme=dark] .colab-df-convert {\n",
              "      background-color: #3B4455;\n",
              "      fill: #D2E3FC;\n",
              "    }\n",
              "\n",
              "    [theme=dark] .colab-df-convert:hover {\n",
              "      background-color: #434B5C;\n",
              "      box-shadow: 0px 1px 3px 1px rgba(0, 0, 0, 0.15);\n",
              "      filter: drop-shadow(0px 1px 2px rgba(0, 0, 0, 0.3));\n",
              "      fill: #FFFFFF;\n",
              "    }\n",
              "  </style>\n",
              "\n",
              "      <script>\n",
              "        const buttonEl =\n",
              "          document.querySelector('#df-b564d03e-1925-4097-a1e0-8160f5c26d7e button.colab-df-convert');\n",
              "        buttonEl.style.display =\n",
              "          google.colab.kernel.accessAllowed ? 'block' : 'none';\n",
              "\n",
              "        async function convertToInteractive(key) {\n",
              "          const element = document.querySelector('#df-b564d03e-1925-4097-a1e0-8160f5c26d7e');\n",
              "          const dataTable =\n",
              "            await google.colab.kernel.invokeFunction('convertToInteractive',\n",
              "                                                     [key], {});\n",
              "          if (!dataTable) return;\n",
              "\n",
              "          const docLinkHtml = 'Like what you see? Visit the ' +\n",
              "            '<a target=\"_blank\" href=https://colab.research.google.com/notebooks/data_table.ipynb>data table notebook</a>'\n",
              "            + ' to learn more about interactive tables.';\n",
              "          element.innerHTML = '';\n",
              "          dataTable['output_type'] = 'display_data';\n",
              "          await google.colab.output.renderOutput(dataTable, element);\n",
              "          const docLink = document.createElement('div');\n",
              "          docLink.innerHTML = docLinkHtml;\n",
              "          element.appendChild(docLink);\n",
              "        }\n",
              "      </script>\n",
              "    </div>\n",
              "  </div>\n",
              "  "
            ]
          },
          "metadata": {},
          "execution_count": 3
        }
      ]
    },
    {
      "cell_type": "code",
      "source": [
        "#Q20\n",
        "\n",
        "last_instances = df.tail(6)\n",
        "print('Last 6 Instances')\n",
        "print(last_instances)"
      ],
      "metadata": {
        "colab": {
          "base_uri": "https://localhost:8080/"
        },
        "id": "VXojYm37DNuw",
        "outputId": "0a462290-381b-4a1a-8c44-ef8dd43bdfa8"
      },
      "execution_count": null,
      "outputs": [
        {
          "output_type": "stream",
          "name": "stdout",
          "text": [
            "Last 6 Instances\n",
            "     CheckingAccount  Duration CreditHistory     Purpose  CreditAmount  \\\n",
            "995             none      12.0    ok_til_now     car_new        2390.0   \n",
            "996             none      12.0    ok_til_now   furniture        1736.0   \n",
            "997               <0      30.0    ok_til_now    car_used        3857.0   \n",
            "998             none      12.0    ok_til_now  television         804.0   \n",
            "999               <0      45.0    ok_til_now  television        1845.0   \n",
            "1000            <200      45.0      critical    car_used        4576.0   \n",
            "\n",
            "     SavingsAccount YearsEmployed  InstallmentRate PersonalStatus  \\\n",
            "995         unknown           >=7              4.0    male_single   \n",
            "996            <100            <7              3.0         female   \n",
            "997            <100            <4              4.0  male_divorced   \n",
            "998            <100           >=7              4.0    male_single   \n",
            "999            <100            <4              4.0    male_single   \n",
            "1000           <500    unemployed              3.0    male_single   \n",
            "\n",
            "     OtherDebtors  ...     Property   Age  OtherPlans Housing  \\\n",
            "995          none  ...          car  50.0        none     own   \n",
            "996          none  ...  real_estate  31.0        none     own   \n",
            "997          none  ...      savings  40.0        none     own   \n",
            "998          none  ...          car  38.0        none     own   \n",
            "999          none  ...      unknown  23.0        none    free   \n",
            "1000         none  ...          car  27.0        none     own   \n",
            "\n",
            "     NumCreditsAtBank         Job Dependents  Telephone Foreign Approve  \n",
            "995               1.0     skilled        1.0        yes     yes    good  \n",
            "996               1.0   unskilled        1.0         no     yes    good  \n",
            "997               1.0  management        1.0        yes     yes    good  \n",
            "998               1.0     skilled        1.0         no     yes    good  \n",
            "999               1.0     skilled        1.0        yes     yes     bad  \n",
            "1000              1.0     skilled        1.0         no     yes    good  \n",
            "\n",
            "[6 rows x 21 columns]\n"
          ]
        }
      ]
    },
    {
      "cell_type": "code",
      "source": [
        "#Q21\n",
        "\n",
        "observation_5 = df.iloc[4]\n",
        "\n",
        "print(observation_5)"
      ],
      "metadata": {
        "colab": {
          "base_uri": "https://localhost:8080/"
        },
        "id": "hjpDNTnVuTXi",
        "outputId": "1defbd8e-131a-450f-8dd3-fe0c2eead7df"
      },
      "execution_count": null,
      "outputs": [
        {
          "output_type": "stream",
          "name": "stdout",
          "text": [
            "CheckingAccount              <0\n",
            "Duration                   42.0\n",
            "CreditHistory        ok_til_now\n",
            "Purpose               furniture\n",
            "CreditAmount             7882.0\n",
            "SavingsAccount             <100\n",
            "YearsEmployed                <7\n",
            "InstallmentRate             2.0\n",
            "PersonalStatus      male_single\n",
            "OtherDebtors          guarantor\n",
            "ResidentSince               4.0\n",
            "Property                savings\n",
            "Age                        45.0\n",
            "OtherPlans                 none\n",
            "Housing                    free\n",
            "NumCreditsAtBank            1.0\n",
            "Job                     skilled\n",
            "Dependents                  2.0\n",
            "Telephone                    no\n",
            "Foreign                     yes\n",
            "Approve                    good\n",
            "Name: 4, dtype: object\n"
          ]
        }
      ]
    },
    {
      "cell_type": "code",
      "source": [
        "#Q22\n",
        "import matplotlib.pyplot as plt\n",
        "\n",
        "\n",
        "duration = df['Duration']\n",
        "age =df['Age']\n",
        "\n",
        "sct = plt.scatter(age, duration , color =\"black\")\n",
        "sct\n",
        "\n",
        "plt.xlabel('Age', color= 'red')\n",
        "plt.ylabel('Duration', color= 'green')\n",
        "plt.title(\"Scatter plot: Duration vs Age\" , fontsize = 20)\n",
        "\n"
      ],
      "metadata": {
        "colab": {
          "base_uri": "https://localhost:8080/",
          "height": 497
        },
        "id": "bO5DyB2gBjoE",
        "outputId": "d5540e45-100f-467a-ccb1-02638988e2c1"
      },
      "execution_count": null,
      "outputs": [
        {
          "output_type": "execute_result",
          "data": {
            "text/plain": [
              "Text(0.5, 1.0, 'Scatter plot: Duration vs Age')"
            ]
          },
          "metadata": {},
          "execution_count": 14
        },
        {
          "output_type": "display_data",
          "data": {
            "text/plain": [
              "<Figure size 640x480 with 1 Axes>"
            ],
            "image/png": "[encoded data removed]"
          },
          "metadata": {}
        }
      ]
    }
  ],
  "metadata": {
    "colab": {
      "provenance": [],
      "toc_visible": true
    },
    "kernelspec": {
      "display_name": "Python 3",
      "name": "python3"
    },
    "language_info": {
      "name": "python"
    }
  },
  "nbformat": 4,
  "nbformat_minor": 0
}